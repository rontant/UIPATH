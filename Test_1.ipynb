{
 "cells": [
  {
   "cell_type": "code",
   "execution_count": null,
   "id": "87bae361-be75-45a8-9047-ff8fb7a8b97b",
   "metadata": {},
   "outputs": [],
   "source": [
    "shopping=[\"Coffee\",\"Sugar\",\"Salt\",\"Flour\"]\n",
    "shopping.insert(3,\"Cookie\")\n",
    "del shopping[2]\n",
    "print(shopping)"
   ]
  },
  {
   "cell_type": "code",
   "execution_count": null,
   "id": "b66ab2e0-685d-4ad7-9851-1f238da16db9",
   "metadata": {},
   "outputs": [],
   "source": []
  },
  {
   "cell_type": "code",
   "execution_count": null,
   "id": "4c41e403-e975-4d91-8a8d-bcea13d9b906",
   "metadata": {},
   "outputs": [],
   "source": []
  },
  {
   "cell_type": "code",
   "execution_count": null,
   "id": "a3df5d18-8302-4eba-acf6-185d00a6b2f4",
   "metadata": {},
   "outputs": [],
   "source": [
    "a=[30,16,70,30,30,20,60,109,40,67]\n",
    "print (f\"Sum: {sum(a)}\")\n",
    "ttl=t2=t3=0\n",
    "for i in range(0, len(a)):\n",
    "    ttl=ttl+a[i]\n",
    "    #print (a[i])\n",
    "    if i%2 != 0:\n",
    "        t2=t2+a[i]\n",
    "        #print (f\"   {i}:{a[i]}\")\n",
    "    if a[i]%2 != 0:\n",
    "        t3=t3+a[i]\n",
    "        #print(a[i])\n",
    "print(f\"Sum of all elements of the list: {ttl}\")\n",
    "print(f\"Sum of the elements at odd indexes of the list: {t2}\")\n",
    "print(f\"Sum of the odd elements of the list: {t3}\")"
   ]
  },
  {
   "cell_type": "code",
   "execution_count": null,
   "id": "021079e2-a3e5-441a-b408-d2478e88c2fe",
   "metadata": {},
   "outputs": [],
   "source": [
    "def lowest(a):\n",
    "    m=a[0]\n",
    "    for i in range(len(a)):\n",
    "        if a[i]<m:\n",
    "            m=a[i]\n",
    "    \n",
    "    return m\n",
    "\n",
    "def x(y,z):\n",
    "    return y+z\n",
    "\n",
    "t=[2023,1115,99,221,1100]\n",
    "print(lowest(t))\n",
    "print (x(110,90))"
   ]
  },
  {
   "cell_type": "code",
   "execution_count": null,
   "id": "a51e32b4-4089-4e5b-bf77-cd616ed21d5d",
   "metadata": {},
   "outputs": [],
   "source": [
    "treasure_map=[25,[\"???\",[\"$$$\",\"###\"],1,2] ]\n",
    "print(treasure_map[0])\n",
    "print(treasure_map[1])\n",
    "print(treasure_map[1][0])\n",
    "print(treasure_map[1][1][0])\n",
    "print(treasure_map[1][1][1])\n",
    "print(treasure_map[1][3])"
   ]
  },
  {
   "cell_type": "code",
   "execution_count": null,
   "id": "ff9e7e13-132d-4993-bd67-879f6f9a17b8",
   "metadata": {},
   "outputs": [],
   "source": [
    "f=open(\"poem.txt\",\"r\")\n",
    "#line1=f.readline()\n",
    "#line2=f.readline()\n",
    "#line3=f.readline()\n",
    "#line4=f.readline()\n",
    "content=f.readlines()\n",
    "print(len(content))\n",
    "print(type(content))\n",
    "#for i in range(len(content)):\n",
    "#    print(content[i],end=\"\")\n",
    "    \n",
    "for line in content:\n",
    "    print(line.strip())\n",
    "f.close()\n",
    "\n",
    "#print(line1+line2+line3+line4)\n",
    "\n"
   ]
  },
  {
   "cell_type": "code",
   "execution_count": null,
   "id": "6b717732-9fba-49ed-adf6-0276548c257b",
   "metadata": {},
   "outputs": [],
   "source": [
    "f=open(\"poem.txt\")\n",
    "for line in f:\n",
    "    print(line.strip())\n",
    "f.close()"
   ]
  },
  {
   "cell_type": "code",
   "execution_count": null,
   "id": "ae5ed212-d8f3-4aa3-aea8-515586b38c53",
   "metadata": {},
   "outputs": [],
   "source": [
    "f=open(\"poem.txt\",\"a\")\n",
    "f.write(\"One for the master,\\n\")\n",
    "f.write(\"And one for the dame,\\n\")\n",
    "f.write(\"One for the little girl, \\n\")\n",
    "f.write(\"Who lives down the lane.\\n\")\n",
    "f.close()"
   ]
  },
  {
   "cell_type": "code",
   "execution_count": null,
   "id": "21befd0e-f65a-4889-83c0-9ef35a17cb20",
   "metadata": {},
   "outputs": [],
   "source": [
    "f=open(\"Book1.csv\",\"r\")\n",
    "for line in f:\n",
    "    #print(line.strip())\n",
    "    rec=line.strip().split(\",\")\n",
    "    print(rec)\n",
    "f.close()"
   ]
  },
  {
   "cell_type": "code",
   "execution_count": null,
   "id": "24d4a2fd",
   "metadata": {},
   "outputs": [],
   "source": [
    "while True:\n",
    "    try:\n",
    "        x=int(input(\"Enter a number:\"))\n",
    "        break\n",
    "    except:\n",
    "        print(\"Please enter a NUMBER!!!\")\n",
    "print(f\"You entered: {x}\")"
   ]
  },
  {
   "cell_type": "code",
   "execution_count": null,
   "id": "83bea7a4",
   "metadata": {},
   "outputs": [],
   "source": [
    "capitals={\"Malaysia\":\"Kuala Lumpur\", \"Japan\":\"Tokyo\", \"Russia\":\"Moscow\"}\n",
    "\n",
    "capitals.pop(\"Japan\")\n",
    "capitals.update({\"Thailand\":\"Bangkok\"})\n",
    "capitals.update({\"Indonesia\":\"Jakarta\"})\n",
    "\n",
    "print(capitals)\n",
    "print(capitals.keys())\n",
    "print(capitals.values())\n",
    "print(capitals[\"Russia\"])\n",
    "\n",
    "for country in capitals.keys():\n",
    "    print(f\"Capital city of {country} is {capitals[country]}.\")\n",
    "\n",
    "while True:\n",
    "    try:\n",
    "        c=input(\"Enter country:\")\n",
    "        print(f\"Capital city of {c} is {capitals[c]}\")\n",
    "        break\n",
    "    except:\n",
    "        print (f\"{c} is not a known country\")"
   ]
  },
  {
   "cell_type": "code",
   "execution_count": null,
   "id": "f3113296",
   "metadata": {},
   "outputs": [],
   "source": [
    "4"
   ]
  }
 ],
 "metadata": {
  "kernelspec": {
   "display_name": "Python 3 (ipykernel)",
   "language": "python",
   "name": "python3"
  },
  "language_info": {
   "codemirror_mode": {
    "name": "ipython",
    "version": 3
   },
   "file_extension": ".py",
   "mimetype": "text/x-python",
   "name": "python",
   "nbconvert_exporter": "python",
   "pygments_lexer": "ipython3",
   "version": "3.9.7"
  }
 },
 "nbformat": 4,
 "nbformat_minor": 5
}
